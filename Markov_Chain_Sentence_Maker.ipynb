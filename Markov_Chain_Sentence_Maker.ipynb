{
  "nbformat": 4,
  "nbformat_minor": 0,
  "metadata": {
    "colab": {
      "provenance": [],
      "authorship_tag": "ABX9TyMs0JO45qDqGsHW2lFvd52h",
      "include_colab_link": true
    },
    "kernelspec": {
      "name": "python3",
      "display_name": "Python 3"
    },
    "language_info": {
      "name": "python"
    }
  },
  "cells": [
    {
      "cell_type": "markdown",
      "metadata": {
        "id": "view-in-github",
        "colab_type": "text"
      },
      "source": [
        "<a href=\"https://colab.research.google.com/github/HimanshuSingh-all/Atomistic-Simulations/blob/main/Markov_Chain_Sentence_Maker.ipynb\" target=\"_parent\"><img src=\"https://colab.research.google.com/assets/colab-badge.svg\" alt=\"Open In Colab\"/></a>"
      ]
    },
    {
      "cell_type": "markdown",
      "source": [
        "# Import Packages"
      ],
      "metadata": {
        "id": "6EjNNSf7Laev"
      }
    },
    {
      "cell_type": "code",
      "execution_count": null,
      "metadata": {
        "id": "rMWkqjyjLMzc"
      },
      "outputs": [],
      "source": [
        "import numpy as np\n",
        "import matplotlib.pyplot as plt\n",
        "import pandas as pd"
      ]
    },
    {
      "cell_type": "code",
      "source": [
        "string = \"\"\"To Sherlock Holmes she is always the woman. I have seldom heard him\n",
        "     mention her under any other name. In his eyes she eclipses and\n",
        "     predominates the whole of her sex. It was not that he felt any\n",
        "     emotion akin to love for Irene Adler. All emotions, and that one\n",
        "     particularly, were abhorrent to his cold, precise but admirably\n",
        "     balanced mind. He was, I take it, the most perfect reasoning and\n",
        "     observing machine that the world has seen, but as a lover he would\n",
        "     have placed himself in a false position. He never spoke of the softer\n",
        "     passions, save with a gibe and a sneer. They were admirable things\n",
        "     for the observer--excellent for drawing the veil from men's motives\n",
        "     and actions. But for the trained reasoner to admit such intrusions\n",
        "     into his own delicate and finely adjusted temperament was to\n",
        "     introduce a distracting factor which might throw a doubt upon all his\n",
        "     mental results. Grit in a sensitive instrument, or a crack in one of\n",
        "     his own high-power lenses, would not be more disturbing than a strong\n",
        "     emotion in a nature such as his. And yet there was but one woman to\n",
        "     him, and that woman was the late Irene Adler, of dubious and\n",
        "     questionable memory.\n",
        "     I had seen little of Holmes lately. My marriage had drifted us away\n",
        "     from each other. My own complete happiness, and the home-centred\n",
        "     interests which rise up around the man who first finds himself master\n",
        "     of his own establishment, were sufficient to absorb all my attention,\n",
        "     while Holmes, who loathed every form of society with his whole\n",
        "     Bohemian soul, remained in our lodgings in Baker Street, buried among\n",
        "     his old books, and alternating from week to week between cocaine and\n",
        "     ambition, the drowsiness of the drug, and the fierce energy of his\n",
        "     own keen nature. He was still, as ever, deeply attracted by the study\n",
        "     of crime, and occupied his immense faculties and extraordinary powers\n",
        "     of observation in following out those clues, and clearing up those\n",
        "     mysteries which had been abandoned as hopeless by the official\n",
        "     police. From time to time I heard some vague account of his doings:\n",
        "     of his summons to Odessa in the case of the Trepoff murder, of his\n",
        "     clearing up of the singular tragedy of the Atkinson brothers at\n",
        "     Trincomalee, and finally of the mission which he had accomplished so\n",
        "     delicately and successfully for the reigning family of Holland.\n",
        "     Beyond these signs of his activity, however, which I merely shared\n",
        "     with all the readers of the daily press, I knew little of my former\n",
        "     friend and companion.\n",
        "\n",
        "     One night--it was on the twentieth of March, 1888--I was returning\n",
        "     from a journey to a patient (for I had now returned to civil\n",
        "     practice), when my way led me through Baker Street. As I passed the\n",
        "     well-remembered door, which must always be associated in my mind with\n",
        "     my wooing, and with the dark incidents of the Study in Scarlet, I was\n",
        "     seized with a keen desire to see Holmes again, and to know how he was\n",
        "     employing his extraordinary powers. His rooms were brilliantly lit,\n",
        "     and, even as I looked up, I saw his tall, spare figure pass twice in\n",
        "     a dark silhouette against the blind. He was pacing the room swiftly,\n",
        "     eagerly, with his head sunk upon his chest and his hands clasped\n",
        "     behind him. To me, who knew his every mood and habit, his attitude\n",
        "     and manner told their own story. He was at work again. He had risen\n",
        "     out of his drug-created dreams and was hot upon the scent of some new\n",
        "     problem. I rang the bell and was shown up to the chamber which had\n",
        "     formerly been in part my own.\n",
        "\n",
        "     His manner was not effusive. It seldom was; but he was glad, I think,\n",
        "     to see me. With hardly a word spoken, but with a kindly eye, he waved\n",
        "     me to an armchair, threw across his case of cigars, and indicated a\n",
        "     spirit case and a gasogene in the corner. Then he stood before the\n",
        "     fire and looked me over in his singular introspective fashion.\"\"\""
      ],
      "metadata": {
        "id": "6mNWwy7ZLaF3"
      },
      "execution_count": null,
      "outputs": []
    },
    {
      "cell_type": "code",
      "source": [
        "wordIndex = dict()\n",
        "wordList = list()\n",
        "for i,word in enumerate(string.split()):\n",
        "    if word not in wordIndex:\n",
        "        wordList.append(word)\n",
        "        wordIndex[word] = len(wordList) -1\n",
        "\n"
      ],
      "metadata": {
        "id": "h2Z2QqAIMYYY"
      },
      "execution_count": null,
      "outputs": []
    },
    {
      "cell_type": "code",
      "source": [
        "#Testing if the above code block is working like I intended to do\n",
        "test_passed = True\n",
        "for word in string.split():\n",
        "    if word != wordList[wordIndex[word]]:\n",
        "        test_passed = False\n",
        "\n",
        "if test_passed:\n",
        "    print(' test Passed ')\n",
        "else:\n",
        "    print(' Test Failed!!!')"
      ],
      "metadata": {
        "colab": {
          "base_uri": "https://localhost:8080/"
        },
        "id": "gBDN7BGDQh50",
        "outputId": "4fd71bae-8c8e-479c-e9a5-b4ce5074bab3"
      },
      "execution_count": null,
      "outputs": [
        {
          "output_type": "stream",
          "name": "stdout",
          "text": [
            " test Passed \n"
          ]
        }
      ]
    },
    {
      "cell_type": "code",
      "source": [
        "N = len(wordList)\n",
        "freq_table_np = np.zeros((N,N))\n",
        "word_freqs = np.zeros(N)\n",
        "for i, word in enumerate(string.split()[:-1]):\n",
        "    cur_ind = wordIndex[word]\n",
        "    next_ind = cur_ind + 1\n",
        "    freq_table_np[cur_ind, next_ind] +=1\n",
        "    word_freqs +=1"
      ],
      "metadata": {
        "id": "5E8PdLGWMcLx"
      },
      "execution_count": null,
      "outputs": []
    },
    {
      "cell_type": "code",
      "source": [
        "plt.imshow(freq_table_np[:,:])\n",
        "plt.title('Word to nextword transititon counts')"
      ],
      "metadata": {
        "colab": {
          "base_uri": "https://localhost:8080/",
          "height": 469
        },
        "id": "P8_GuWajQXei",
        "outputId": "213840d1-b402-4a0d-80a3-32eb7c2f7f40"
      },
      "execution_count": null,
      "outputs": [
        {
          "output_type": "execute_result",
          "data": {
            "text/plain": [
              "Text(0.5, 1.0, 'Word to nextword transititon counts')"
            ]
          },
          "metadata": {},
          "execution_count": 18
        },
        {
          "output_type": "display_data",
          "data": {
            "text/plain": [
              "<Figure size 640x480 with 1 Axes>"
            ],
            "image/png": "[encoded data removed]"
          },
          "metadata": {}
        }
      ]
    },
    {
      "cell_type": "code",
      "source": [
        "#args = np.argsort(freq_table_np[:], axis = 1)\n",
        "max = np.max(freq_table_np)\n",
        "softmax_probabilities_next_ = np.exp(freq_table_np-max)/np.exp(freq_table_np-max).sum(axis =1)[:,None]\n",
        "softmax_first_word_ = np.exp(word_freqs-max)/np.sum(np.exp(word_freqs-max))"
      ],
      "metadata": {
        "id": "ORq4rh1JXH2j"
      },
      "execution_count": null,
      "outputs": []
    },
    {
      "cell_type": "code",
      "source": [
        "print(np.sum(softmax_probabilities_next_[2]),softmax_probabilities_next_[2].shape)\n",
        "a = np.array(((0, 1, 2 ),(3,4,5)))\n",
        "print(a)\n",
        "stest = np.exp(a-1)#\n"
      ],
      "metadata": {
        "colab": {
          "base_uri": "https://localhost:8080/"
        },
        "id": "fUQB4RFmScgO",
        "outputId": "3460d52f-7eb3-4e19-d56c-4d6dd6296f0d"
      },
      "execution_count": null,
      "outputs": [
        {
          "output_type": "stream",
          "name": "stdout",
          "text": [
            "1.0 (379,)\n",
            "[[0 1 2]\n",
            " [3 4 5]]\n"
          ]
        }
      ]
    },
    {
      "cell_type": "code",
      "source": [],
      "metadata": {
        "id": "PzCmY8WwxhVl"
      },
      "execution_count": null,
      "outputs": []
    },
    {
      "cell_type": "code",
      "source": [
        "from typing import Tuple\n",
        "def getnewword(curr_word:str, probabilities_table)->str:\n",
        "    #indexWords:dict, wordList:list,\n",
        "    curr_ind = wordIndex[curr_word]\n",
        "    next_word = np.random.choice(wordList, p = probabilities_table[curr_ind, :])\n",
        "    return next_word\n",
        "\n",
        "def generate_sentence(N:int)->str:\n",
        "    # indexWords:dict, wordList:list, curr_word:str, word_freqs, probabilities_table)->str:\n",
        "\n",
        "    sentencelist = [np.random.choice(wordList, p = softmax_first_word_)]\n",
        "    for i in range(N-1):\n",
        "        curr_word = sentencelist[-1]\n",
        "        sentencelist.append(getnewword(curr_word, softmax_probabilities_next_))\n",
        "    return ' '.join(sentencelist)\n"
      ],
      "metadata": {
        "id": "6k5oSDj1cL44"
      },
      "execution_count": null,
      "outputs": []
    },
    {
      "cell_type": "code",
      "source": [
        "generate_sentence(100)"
      ],
      "metadata": {
        "colab": {
          "base_uri": "https://localhost:8080/",
          "height": 87
        },
        "id": "WQbh2I9Ucm4l",
        "outputId": "421e18f3-fff9-4449-e99e-a7dc4dda6f4a"
      },
      "execution_count": null,
      "outputs": [
        {
          "output_type": "execute_result",
          "data": {
            "text/plain": [
              "'by deeply Sherlock intrusions cocaine whole on spirit never admit and, results. Beyond seized sufficient of sex. mission distracting cigars, mood was, lover again, who Atkinson (for and predominates he felt twice own. returning It crack predominates gibe be accomplished and, always eclipses in false hot One keen nature. With name. Adler, finally eagerly, led successfully through finally not there woman. To introspective placed shared hopeless still, summons me case predominates chest high-power merely machine way Trincomalee, chamber 1888--I softer seized against home-centred me. Trincomalee, love told chamber one desire extraordinary own. establishment, which Atkinson position. dreams my occupied chamber'"
            ],
            "application/vnd.google.colaboratory.intrinsic+json": {
              "type": "string"
            }
          },
          "metadata": {},
          "execution_count": 22
        }
      ]
    },
    {
      "cell_type": "code",
      "source": [],
      "metadata": {
        "id": "HGudhqSu2eZ0"
      },
      "execution_count": null,
      "outputs": []
    }
  ]
}